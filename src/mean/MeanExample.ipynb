{
 "cells": [
  {
   "cell_type": "code",
   "execution_count": null,
   "metadata": {
    "collapsed": false
   },
   "outputs": [],
   "source": [
    "import numpy as np\n",
    "\n",
    "N = 1000000\n",
    "\n",
    "A = np.random.rand(N)"
   ]
  },
  {
   "cell_type": "code",
   "execution_count": null,
   "metadata": {
    "collapsed": true
   },
   "outputs": [],
   "source": [
    "def mean_plain(A, N):\n",
    "    sum = 0.0\n",
    "    j = 0\n",
    "    while j < N:\n",
    "        sum += A[j]\n",
    "        j+=1\n",
    "\n",
    "    return sum / N"
   ]
  },
  {
   "cell_type": "code",
   "execution_count": null,
   "metadata": {
    "collapsed": false
   },
   "outputs": [],
   "source": [
    "%%timeit -n 1 -r 1\n",
    "\n",
    "mean_plain(A, N)"
   ]
  },
  {
   "cell_type": "code",
   "execution_count": null,
   "metadata": {
    "collapsed": false
   },
   "outputs": [],
   "source": [
    "%load_ext Cython"
   ]
  },
  {
   "cell_type": "code",
   "execution_count": null,
   "metadata": {
    "collapsed": true
   },
   "outputs": [],
   "source": [
    "%%cython\n",
    "cimport numpy as np\n",
    "\n",
    "def mean_cython1(A, N):\n",
    "    sum = 0.0\n",
    "    j = 0\n",
    "    while j < N:\n",
    "        sum += A[j]\n",
    "        j+=1\n",
    "\n",
    "    return sum / N"
   ]
  },
  {
   "cell_type": "code",
   "execution_count": null,
   "metadata": {
    "collapsed": false
   },
   "outputs": [],
   "source": [
    "%%timeit -n 1 -r 1 \n",
    "\n",
    "mean_cython1(A, N)"
   ]
  },
  {
   "cell_type": "code",
   "execution_count": null,
   "metadata": {
    "collapsed": false
   },
   "outputs": [],
   "source": [
    "%%cython\n",
    "def mean_cython2(A, int N):\n",
    "    cdef double sum = 0.0\n",
    "    cdef int j = 0\n",
    "\n",
    "    while j < N:\n",
    "        sum += A[j]  \n",
    "        j += 1\n",
    "\n",
    "    return sum / N"
   ]
  },
  {
   "cell_type": "code",
   "execution_count": null,
   "metadata": {
    "collapsed": false
   },
   "outputs": [],
   "source": [
    "%%timeit -n 1 -r 1 \n",
    "\n",
    "mean_cython2(A, N)"
   ]
  },
  {
   "cell_type": "code",
   "execution_count": null,
   "metadata": {
    "collapsed": false
   },
   "outputs": [],
   "source": [
    "%%cython \n",
    "cimport numpy as np\n",
    "\n",
    "def mean_cython3(np.ndarray[np.float64_t, ndim=1] A, int N):\n",
    "    cdef double sum = 0.0\n",
    "    cdef int j = 0\n",
    "\n",
    "    while j < N:\n",
    "        sum += A[j]  \n",
    "        j += 1\n",
    "\n",
    "    return sum / N"
   ]
  },
  {
   "cell_type": "code",
   "execution_count": null,
   "metadata": {
    "collapsed": false
   },
   "outputs": [],
   "source": [
    "%%timeit -n 1 -r 1\n",
    "\n",
    "mean_cython3(A, N)"
   ]
  },
  {
   "cell_type": "code",
   "execution_count": null,
   "metadata": {
    "collapsed": false
   },
   "outputs": [],
   "source": [
    "%%cython \n",
    "cimport numpy as np\n",
    "cimport cython\n",
    "\n",
    "@cython.boundscheck(False)\n",
    "@cython.wraparound(False)\n",
    "def mean_cython4(np.ndarray[np.float64_t, ndim=1, mode=\"c\"] A, int N):\n",
    "    cdef double sum = 0.0\n",
    "    cdef int j = 0\n",
    "\n",
    "\n",
    "    while j < N:\n",
    "        sum += A[j]  \n",
    "        j += 1\n",
    "\n",
    "    return sum / N"
   ]
  },
  {
   "cell_type": "code",
   "execution_count": null,
   "metadata": {
    "collapsed": false
   },
   "outputs": [],
   "source": [
    "%%timeit -n 1 -r 1\n",
    "\n",
    "mean_cython4(A, N)"
   ]
  },
  {
   "cell_type": "code",
   "execution_count": null,
   "metadata": {
    "collapsed": false
   },
   "outputs": [],
   "source": [
    "%%cython \n",
    "cimport numpy as np\n",
    "cimport cython\n",
    "\n",
    "@cython.boundscheck(False)\n",
    "@cython.wraparound(False)\n",
    "def mean_cython5(np.ndarray[np.float64_t, ndim=1, mode=\"c\"] A, int N):\n",
    "    cdef double sum = 0.0\n",
    "    cdef int j = 0\n",
    "\n",
    "    with nogil:\n",
    "        while j < N:\n",
    "            sum += A[j]  \n",
    "            j += 1\n",
    "\n",
    "    return sum / N"
   ]
  },
  {
   "cell_type": "code",
   "execution_count": null,
   "metadata": {
    "collapsed": false
   },
   "outputs": [],
   "source": [
    "%%timeit -n 1 -r 1\n",
    "\n",
    "mean_cython5(A, N)"
   ]
  }
 ],
 "metadata": {
  "kernelspec": {
   "display_name": "Python 3",
   "language": "python",
   "name": "python3"
  },
  "language_info": {
   "codemirror_mode": {
    "name": "ipython",
    "version": 3
   },
   "file_extension": ".py",
   "mimetype": "text/x-python",
   "name": "python",
   "nbconvert_exporter": "python",
   "pygments_lexer": "ipython3",
   "version": "3.5.1+"
  }
 },
 "nbformat": 4,
 "nbformat_minor": 0
}
