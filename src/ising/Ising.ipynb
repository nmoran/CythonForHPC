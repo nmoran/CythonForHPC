{
 "cells": [
  {
   "cell_type": "markdown",
   "metadata": {},
   "source": [
    "Standard python implementation of ising model."
   ]
  },
  {
   "cell_type": "code",
   "execution_count": 1,
   "metadata": {
    "collapsed": false
   },
   "outputs": [],
   "source": [
    "import numpy as np\n",
    "import matplotlib.pyplot as plt\n",
    "%matplotlib inline\n",
    "\n",
    "\n",
    "def run_sim(N, sweeps, J, T, thermalisation=10):\n",
    "    A = np.asarray(np.round(np.random.rand(N,N)), dtype=np.int8)\n",
    "    A[A == 0] = -1\n",
    "    AvgMag = 0.0\n",
    "    averaged = 0\n",
    "    sweep = 0\n",
    "    while sweep < sweeps + thermalisation:\n",
    "        x = 0 \n",
    "        while x < N*N:\n",
    "            i = np.random.randint(N)\n",
    "            j = np.random.randint(N)        \n",
    "            deltaE = 0.0\n",
    "            if i < (N-1):\n",
    "                deltaE += 2*J*A[i,j]*A[i+1,j]\n",
    "            else:\n",
    "                deltaE += 2*J*A[i,j]*A[0,j]\n",
    "            if i > 0:\n",
    "                deltaE += 2*J*A[i,j]*A[i-1,j]\n",
    "            else:\n",
    "                deltaE += 2*J*A[i,j]*A[-1,j]\n",
    "            if j < (N-1):\n",
    "                deltaE += 2*J*A[i,j]*A[i,j+1]\n",
    "            else:\n",
    "                deltaE += 2*J*A[i,j]*A[i,0]\n",
    "            if j > 0:\n",
    "                deltaE += 2*J*A[i,j]*A[i,j-1]\n",
    "            else:\n",
    "                deltaE += 2*J*A[i,j]*A[i,-1]\n",
    "            if deltaE < 0.0:\n",
    "                A[i,j] *= -1\n",
    "            else:\n",
    "                roll = np.random.rand()\n",
    "                if roll < np.exp(-deltaE/T):\n",
    "                    A[i,j] *= -1\n",
    "            x += 1\n",
    "        if sweep >= thermalisation:            \n",
    "            AvgMag = (AvgMag*averaged + np.sum(A)/float(N*N))/float(averaged+1)\n",
    "            averaged += 1\n",
    "        sweep += 1\n",
    "            \n",
    "    return AvgMag, A"
   ]
  },
  {
   "cell_type": "code",
   "execution_count": 2,
   "metadata": {
    "collapsed": false
   },
   "outputs": [
    {
     "name": "stdout",
     "output_type": "stream",
     "text": [
      "CPU times: user 348 ms, sys: 0 ns, total: 348 ms\n",
      "Wall time: 344 ms\n"
     ]
    }
   ],
   "source": [
    "%%time\n",
    "N = 20\n",
    "J = 1.0\n",
    "T = 0.5\n",
    "sweeps = 20\n",
    "mag, A = run_sim(N, sweeps, J, T, thermalisation=50)"
   ]
  },
  {
   "cell_type": "code",
   "execution_count": 3,
   "metadata": {
    "collapsed": false
   },
   "outputs": [
    {
     "data": {
      "text/plain": [
       "<matplotlib.colorbar.Colorbar at 0x7f7864840f60>"
      ]
     },
     "execution_count": 3,
     "metadata": {},
     "output_type": "execute_result"
    },
    {
     "data": {
      "image/png": "[encoded data removed]",
      "text/plain": [
       "<matplotlib.figure.Figure at 0x7f7890155518>"
      ]
     },
     "metadata": {},
     "output_type": "display_data"
    }
   ],
   "source": [
    "plt.imshow(A, interpolation='nearest')\n",
    "plt.colorbar()"
   ]
  },
  {
   "cell_type": "markdown",
   "metadata": {},
   "source": [
    "We now do the same in cython."
   ]
  },
  {
   "cell_type": "code",
   "execution_count": 4,
   "metadata": {
    "collapsed": false
   },
   "outputs": [],
   "source": [
    "%load_ext Cython"
   ]
  },
  {
   "cell_type": "code",
   "execution_count": 5,
   "metadata": {
    "collapsed": false
   },
   "outputs": [],
   "source": [
    "%%cython \n",
    "\n",
    "cimport numpy as np\n",
    "import numpy as np\n",
    "cimport cython\n",
    "\n",
    "cdef extern from \"math.h\":\n",
    "    double exp(double x)\n",
    "    \n",
    "from libc.stdlib cimport rand, RAND_MAX            \n",
    "    \n",
    "@cython.boundscheck(False)\n",
    "@cython.wraparound(False)\n",
    "def run_sim_cython(int N, int sweeps, double J, double T, int thermalisation=10):\n",
    "    cdef np.ndarray[np.int8_t, ndim=2] A = np.asarray(np.round(np.random.rand(N,N)), dtype=np.int8) \n",
    "    A[A == 0] = -1\n",
    "    cdef double AvgMag = 0.0, averaged = 0, deltaE, roll\n",
    "    cdef int x, sweep=0, i, j\n",
    "    cdef int sites = N**2\n",
    "    cdef np.ndarray[np.int_t, ndim=2] rand_sites\n",
    "    cdef double rand_denominator = RAND_MAX\n",
    "\n",
    "    while sweep < (sweeps + thermalisation):    \n",
    "        x = 0\n",
    "        while x < sites:\n",
    "            i = np.random.randint(N)\n",
    "            j = np.random.randint(N)        \n",
    "            deltaE = 0.0\n",
    "            if i < (N-1):\n",
    "                deltaE += 2*J*A[i,j]*A[i+1,j]\n",
    "            else:\n",
    "                deltaE += 2*J*A[i,j]*A[0,j]\n",
    "            if i > 0:\n",
    "                deltaE += 2*J*A[i,j]*A[i-1,j]\n",
    "            else:\n",
    "                deltaE += 2*J*A[i,j]*A[-1,j]\n",
    "            if j < (N-1):\n",
    "                deltaE += 2*J*A[i,j]*A[i,j+1]\n",
    "            else:\n",
    "                deltaE += 2*J*A[i,j]*A[i,0]\n",
    "            if j > 0:\n",
    "                deltaE += 2*J*A[i,j]*A[i,j-1]\n",
    "            else:\n",
    "                deltaE += 2*J*A[i,j]*A[i,-1]\n",
    "            if deltaE < 0.0:\n",
    "                A[i,j] *= -1\n",
    "            else:\n",
    "                roll = rand()/rand_denominator\n",
    "                if roll < exp(-deltaE/T):\n",
    "                    A[i,j] *= -1\n",
    "            x += 1\n",
    "        if sweep >= thermalisation:            \n",
    "            AvgMag = (AvgMag*averaged + np.sum(A)/float(N*N))/float(averaged+1)\n",
    "            averaged += 1\n",
    "        sweep += 1\n",
    "            \n",
    "    return AvgMag, A\n",
    "    "
   ]
  },
  {
   "cell_type": "code",
   "execution_count": 6,
   "metadata": {
    "collapsed": false
   },
   "outputs": [
    {
     "name": "stdout",
     "output_type": "stream",
     "text": [
      "CPU times: user 0 ns, sys: 0 ns, total: 0 ns\n",
      "Wall time: 4.29 µs\n"
     ]
    }
   ],
   "source": [
    "%time\n",
    "N = 20\n",
    "J = 1.0\n",
    "sweeps = 20\n",
    "T = 0.1\n",
    "average_mag, A = run_sim_cython(N, sweeps, J, T, thermalisation=50)\n"
   ]
  },
  {
   "cell_type": "code",
   "execution_count": 7,
   "metadata": {
    "collapsed": false
   },
   "outputs": [
    {
     "data": {
      "text/plain": [
       "<matplotlib.image.AxesImage at 0x7f7862e1a668>"
      ]
     },
     "execution_count": 7,
     "metadata": {},
     "output_type": "execute_result"
    },
    {
     "data": {
      "image/png": "[encoded data removed]",
      "text/plain": [
       "<matplotlib.figure.Figure at 0x7f7862e45d30>"
      ]
     },
     "metadata": {},
     "output_type": "display_data"
    }
   ],
   "source": [
    "plt.imshow(A, interpolation='nearest')"
   ]
  },
  {
   "cell_type": "code",
   "execution_count": 10,
   "metadata": {
    "collapsed": false
   },
   "outputs": [
    {
     "name": "stdout",
     "output_type": "stream",
     "text": [
      "CPU times: user 5.07 s, sys: 8 ms, total: 5.08 s\n",
      "Wall time: 5.08 s\n"
     ]
    }
   ],
   "source": [
    "%%time\n",
    "Ts = np.linspace(0.1, 10.0, 30)\n",
    "sweeps = 100\n",
    "N = 20\n",
    "\n",
    "avg_mag = []\n",
    "for T in Ts:\n",
    "    data = run_sim_cython(N, sweeps, J, T, thermalisation=50)\n",
    "    avg_mag.append(data[0])"
   ]
  },
  {
   "cell_type": "code",
   "execution_count": 9,
   "metadata": {
    "collapsed": false
   },
   "outputs": [
    {
     "data": {
      "text/plain": [
       "[<matplotlib.lines.Line2D at 0x7f7862bba470>]"
      ]
     },
     "execution_count": 9,
     "metadata": {},
     "output_type": "execute_result"
    },
    {
     "data": {
      "image/png": "[encoded data removed]",
      "text/plain": [
       "<matplotlib.figure.Figure at 0x7f7862e337f0>"
      ]
     },
     "metadata": {},
     "output_type": "display_data"
    }
   ],
   "source": [
    "plt.plot(list(Ts), np.abs(avg_mag), 'o')"
   ]
  },
  {
   "cell_type": "code",
   "execution_count": null,
   "metadata": {
    "collapsed": true
   },
   "outputs": [],
   "source": []
  },
  {
   "cell_type": "code",
   "execution_count": null,
   "metadata": {
    "collapsed": true
   },
   "outputs": [],
   "source": []
  }
 ],
 "metadata": {
  "kernelspec": {
   "display_name": "Python 3",
   "language": "python",
   "name": "python3"
  },
  "language_info": {
   "codemirror_mode": {
    "name": "ipython",
    "version": 3
   },
   "file_extension": ".py",
   "mimetype": "text/x-python",
   "name": "python",
   "nbconvert_exporter": "python",
   "pygments_lexer": "ipython3",
   "version": "3.5.1+"
  }
 },
 "nbformat": 4,
 "nbformat_minor": 0
}
